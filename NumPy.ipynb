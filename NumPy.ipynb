{
  "nbformat": 4,
  "nbformat_minor": 0,
  "metadata": {
    "colab": {
      "provenance": [],
      "authorship_tag": "ABX9TyOuL29GREdMs8NdhmWYbnso",
      "include_colab_link": true
    },
    "kernelspec": {
      "name": "python3",
      "display_name": "Python 3"
    },
    "language_info": {
      "name": "python"
    }
  },
  "cells": [
    {
      "cell_type": "markdown",
      "metadata": {
        "id": "view-in-github",
        "colab_type": "text"
      },
      "source": [
        "<a href=\"https://colab.research.google.com/github/MuhammadjonArabov/Python-For-Data-Analytics/blob/main/NumPy.ipynb\" target=\"_parent\"><img src=\"https://colab.research.google.com/assets/colab-badge.svg\" alt=\"Open In Colab\"/></a>"
      ]
    },
    {
      "cell_type": "code",
      "execution_count": 3,
      "metadata": {
        "colab": {
          "base_uri": "https://localhost:8080/"
        },
        "id": "sZKmwriJJhgx",
        "outputId": "c5f623c6-121f-4fd2-aa05-42cb668bb9a3"
      },
      "outputs": [
        {
          "output_type": "stream",
          "name": "stdout",
          "text": [
            "a = True\n",
            "b = False\n"
          ]
        }
      ],
      "source": [
        "import numpy as np\n",
        "a = np.array([4, True, True])\n",
        "print(f\"a = {a.all()}\")\n",
        "b = np.array([True, False, True])\n",
        "print(f\"b = {b.all()}\")"
      ]
    },
    {
      "cell_type": "code",
      "source": [
        "print(f\"any = {a.any()}\")\n",
        "d = np.array([False, 0, False])\n",
        "print(f\"d = {d.any()}\")"
      ],
      "metadata": {
        "colab": {
          "base_uri": "https://localhost:8080/"
        },
        "id": "yQ3AJBkBK0HP",
        "outputId": "cefe4efe-c27f-4d1f-b745-120558d28d57"
      },
      "execution_count": null,
      "outputs": [
        {
          "output_type": "stream",
          "name": "stdout",
          "text": [
            "any = True\n",
            "d = False\n"
          ]
        }
      ]
    },
    {
      "cell_type": "code",
      "source": [
        "s = np.array([23, 12, 45, 67, 8])\n",
        "print(np.take(s, [0, 2]))"
      ],
      "metadata": {
        "colab": {
          "base_uri": "https://localhost:8080/"
        },
        "id": "1_xD91z0MGm7",
        "outputId": "93593afe-4c80-41fd-ff4d-057ab4e97bd3"
      },
      "execution_count": null,
      "outputs": [
        {
          "output_type": "stream",
          "name": "stdout",
          "text": [
            "[23 45]\n"
          ]
        }
      ]
    },
    {
      "cell_type": "code",
      "source": [
        "S = np.array([1, 2, 3, 4, 5, 6, 7])\n",
        "np.put(S, [1, 3], [89, 79])\n",
        "print(S)"
      ],
      "metadata": {
        "colab": {
          "base_uri": "https://localhost:8080/"
        },
        "id": "P991DoeRMqEE",
        "outputId": "027a07df-af63-49c5-d786-c40be1b63b31"
      },
      "execution_count": null,
      "outputs": [
        {
          "output_type": "stream",
          "name": "stdout",
          "text": [
            "[ 1 89  3 79  5  6  7]\n"
          ]
        }
      ]
    },
    {
      "cell_type": "code",
      "source": [
        "print(np.diag(s))\n",
        "b = np.array([[1, 2, 3], [5, 6, 7]])\n",
        "print(f\"b = {np.diag(b)}\")\n",
        "print(f\"diagflat = {np.diagflat(b)}\")"
      ],
      "metadata": {
        "colab": {
          "base_uri": "https://localhost:8080/"
        },
        "id": "lPwnvNy6Nhb-",
        "outputId": "88819a6a-b4e1-4a4a-c0df-b68ec1d57842"
      },
      "execution_count": null,
      "outputs": [
        {
          "output_type": "stream",
          "name": "stdout",
          "text": [
            "[[23  0  0  0  0]\n",
            " [ 0 89  0  0  0]\n",
            " [ 0  0 45  0  0]\n",
            " [ 0  0  0 79  0]\n",
            " [ 0  0  0  0  8]]\n",
            "b = [1 6]\n",
            "diagflat = [[1 0 0 0 0 0]\n",
            " [0 2 0 0 0 0]\n",
            " [0 0 3 0 0 0]\n",
            " [0 0 0 5 0 0]\n",
            " [0 0 0 0 6 0]\n",
            " [0 0 0 0 0 7]]\n"
          ]
        }
      ]
    },
    {
      "cell_type": "code",
      "source": [
        "idx = np.diag_indices(3)\n",
        "print(idx)\n",
        "a = np.zeros((3, 3))\n",
        "a[idx] = [2, 5, 7]\n",
        "print(a)"
      ],
      "metadata": {
        "colab": {
          "base_uri": "https://localhost:8080/"
        },
        "id": "ITkRuHtsS2ZK",
        "outputId": "06698387-148d-4ee4-a436-a86a4525c9d5"
      },
      "execution_count": null,
      "outputs": [
        {
          "output_type": "stream",
          "name": "stdout",
          "text": [
            "(array([0, 1, 2]), array([0, 1, 2]))\n",
            "[[2. 0. 0.]\n",
            " [0. 5. 0.]\n",
            " [0. 0. 7.]]\n"
          ]
        }
      ]
    },
    {
      "cell_type": "code",
      "source": [
        "a = np.empty([2, 2], dtype=int)\n",
        "print(f\"a = \\n {a}\")\n",
        "b = np.empty(2, dtype=int)\n",
        "print(f\"b = \\n {b}\")"
      ],
      "metadata": {
        "colab": {
          "base_uri": "https://localhost:8080/"
        },
        "id": "tin7NpKnW2hf",
        "outputId": "4242e46b-f432-42b6-b1c4-fcfb4c8d361b"
      },
      "execution_count": null,
      "outputs": [
        {
          "output_type": "stream",
          "name": "stdout",
          "text": [
            "a = \n",
            " [[-4592061934894841856 -4607182418800017408]\n",
            " [ 4631310101959933952  4624070917402656768]]\n",
            "b = \n",
            " [9218868437227405312 9218868437227405312]\n"
          ]
        }
      ]
    },
    {
      "cell_type": "code",
      "source": [
        "a = np.array([2, 4, 6, 7, 90])\n",
        "b = np.array([1, 45, 67, 4, 97])\n",
        "add_ab = a + b\n",
        "print(f\"a + b = {add_ab}\")\n",
        "c = np.add(a, b)\n",
        "print(f\"c = {c}\")\n",
        "d = np.array([1, 2, 3, 4, 1])\n",
        "total_amount = a + b + d\n",
        "print(f\"total_amount = {total_amount}\")\n",
        "total_amount1 = np.add(a, b, d)\n",
        "print(f\"total_amount1 = {total_amount1}\")"
      ],
      "metadata": {
        "colab": {
          "base_uri": "https://localhost:8080/"
        },
        "id": "slKZyK_UY1mR",
        "outputId": "a0488742-b638-4498-9d9e-1a428286d8ba"
      },
      "execution_count": null,
      "outputs": [
        {
          "output_type": "stream",
          "name": "stdout",
          "text": [
            "a + b = [  3  49  73  11 187]\n",
            "c = [  3  49  73  11 187]\n",
            "total_amount = [  4  51  76  15 188]\n",
            "total_amount1 = [  3  49  73  11 187]\n"
          ]
        }
      ]
    },
    {
      "cell_type": "code",
      "source": [
        "x = np.array([4, 6, 8, 9])\n",
        "y = np.array([1, 2, 4, 5])\n",
        "sub_ab = x - y\n",
        "print(f\"a - b = {sub_ab}\")\n",
        "sub_ab1 = np.subtract(x, y)\n",
        "print(f\"sub_ab1 = {sub_ab1}\")"
      ],
      "metadata": {
        "colab": {
          "base_uri": "https://localhost:8080/"
        },
        "id": "-dYg1QqobRNa",
        "outputId": "bb6ee908-a3a2-4e80-e7dd-bb2ec869e38f"
      },
      "execution_count": null,
      "outputs": [
        {
          "output_type": "stream",
          "name": "stdout",
          "text": [
            "a - b = [3 4 4 4]\n",
            "sub_ab1 = [3 4 4 4]\n"
          ]
        }
      ]
    },
    {
      "cell_type": "code",
      "source": [
        "mul_ab = x*y\n",
        "print(f\"x*y = {x*y}\")\n",
        "mul_ab = np.multiply(x, y)\n",
        "print(f\"mul_ab = {mul_ab}\")"
      ],
      "metadata": {
        "colab": {
          "base_uri": "https://localhost:8080/"
        },
        "id": "K5e0rOs6c7_z",
        "outputId": "e394ac8f-b086-4cbc-9103-9df57509a9d9"
      },
      "execution_count": null,
      "outputs": [
        {
          "output_type": "stream",
          "name": "stdout",
          "text": [
            "x*y = [ 4 12 32 45]\n",
            "mul_ab = [ 4 12 32 45]\n"
          ]
        }
      ]
    },
    {
      "cell_type": "code",
      "source": [
        "print(f\"x/y = {x/y}\")\n",
        "div_ab = np.divide(x, y)\n",
        "print(f\"div_ab = {div_ab}\")"
      ],
      "metadata": {
        "colab": {
          "base_uri": "https://localhost:8080/"
        },
        "id": "Pmh6v3SOdseM",
        "outputId": "df450bc0-06a4-464d-9cb0-b130fd3f640a"
      },
      "execution_count": null,
      "outputs": [
        {
          "output_type": "stream",
          "name": "stdout",
          "text": [
            "x/y = [4.  3.  2.  1.8]\n",
            "div_ab = [4.  3.  2.  1.8]\n"
          ]
        }
      ]
    },
    {
      "cell_type": "code",
      "source": [
        "f, g = np.arange(1, 10, 2), np.arange(10, 1, -2)\n",
        "print(f\"f = {f},  g = {g}\")"
      ],
      "metadata": {
        "colab": {
          "base_uri": "https://localhost:8080/"
        },
        "id": "FlxAmZFVeOIV",
        "outputId": "a284de23-0d42-43bd-b1db-d4f876cfd2b8"
      },
      "execution_count": null,
      "outputs": [
        {
          "output_type": "stream",
          "name": "stdout",
          "text": [
            "f = [1 3 5 7 9],  g = [10  8  6  4  2]\n"
          ]
        }
      ]
    },
    {
      "cell_type": "code",
      "source": [
        "b = np.array([[[1, 2, 3], [56, 6, 7]],\n",
        "              [[9, 0, 8], [0, 12, 45]]])\n",
        "\n",
        "print(b[..., 2])\n"
      ],
      "metadata": {
        "colab": {
          "base_uri": "https://localhost:8080/"
        },
        "id": "cMZbDttqFb9r",
        "outputId": "03dfcd1d-b9b7-40aa-94e5-50f10f0418d2"
      },
      "execution_count": 5,
      "outputs": [
        {
          "output_type": "stream",
          "name": "stdout",
          "text": [
            "[[ 3  7]\n",
            " [ 8 45]]\n"
          ]
        }
      ]
    },
    {
      "cell_type": "code",
      "source": [
        "g = np.array([\n",
        "    [2, 3, 4.9],\n",
        "    [4, 4.3, 1],\n",
        "    [8, 9.9, 2.2],\n",
        "    [1, 2.3, 7.8]\n",
        "])\n",
        "\n",
        "d = np.array([2, 4, 4])\n",
        "result = g * d\n",
        "print(result)"
      ],
      "metadata": {
        "colab": {
          "base_uri": "https://localhost:8080/"
        },
        "id": "DsEFbxhsGfcf",
        "outputId": "4a132edb-3475-4677-e467-7e4c4c4ca7d1"
      },
      "execution_count": 6,
      "outputs": [
        {
          "output_type": "stream",
          "name": "stdout",
          "text": [
            "[[ 4.  12.  19.6]\n",
            " [ 8.  17.2  4. ]\n",
            " [16.  39.6  8.8]\n",
            " [ 2.   9.2 31.2]]\n"
          ]
        }
      ]
    },
    {
      "cell_type": "code",
      "source": [
        "v = np.array([1, 2, 3])\n",
        "w = np.array([9, 1])\n",
        "\n",
        "print(np.reshape(v, (3, 1)) * w)\n",
        "\n",
        "X = np.array([[12, 22, 33], [45, 55, 66]])\n",
        "print(X + v)\n",
        "\n",
        "print((X.T + w).T)\n",
        "\n",
        "print(X * 2)"
      ],
      "metadata": {
        "colab": {
          "base_uri": "https://localhost:8080/"
        },
        "id": "Ztk9hFZbG9zX",
        "outputId": "e2edf894-af50-43f2-d9ff-de4886c4efa4"
      },
      "execution_count": 11,
      "outputs": [
        {
          "output_type": "stream",
          "name": "stdout",
          "text": [
            "[[ 9  1]\n",
            " [18  2]\n",
            " [27  3]]\n",
            "[[13 24 36]\n",
            " [46 57 69]]\n",
            "[[21 31 42]\n",
            " [46 56 67]]\n",
            "[[ 24  44  66]\n",
            " [ 90 110 132]]\n"
          ]
        }
      ]
    },
    {
      "cell_type": "code",
      "source": [
        "import pandas as pd\n",
        "\n",
        "ser = pd.Series(dtype=\"object\")\n",
        "\n",
        "print(ser)\n",
        "\n",
        "data  = np.array(['l', 'b', 'c', 'x', 'd'])\n",
        "ser = pd.Series(data)\n",
        "print(ser)"
      ],
      "metadata": {
        "colab": {
          "base_uri": "https://localhost:8080/"
        },
        "id": "955jlPKyIQkh",
        "outputId": "91ffc00d-52b8-42c1-cd00-7dd9f73e1a66"
      },
      "execution_count": 13,
      "outputs": [
        {
          "output_type": "stream",
          "name": "stdout",
          "text": [
            "Series([], dtype: object)\n",
            "0    l\n",
            "1    b\n",
            "2    c\n",
            "3    x\n",
            "4    d\n",
            "dtype: object\n"
          ]
        }
      ]
    },
    {
      "cell_type": "code",
      "source": [
        "df = pd.DataFrame()\n",
        "print(df)\n",
        "\n",
        "l = ['Olim', 'Sanjar', 'Olima', 'Oybek', 'Asal', 'Sabrina']\n",
        "\n",
        "df = pd.DataFrame(l, columns=['Words'])\n",
        "\n",
        "print(df)"
      ],
      "metadata": {
        "colab": {
          "base_uri": "https://localhost:8080/"
        },
        "id": "XIX_LRV4I8Kc",
        "outputId": "0da68f59-d2c7-4956-bda8-8c48fd3ffc70"
      },
      "execution_count": 21,
      "outputs": [
        {
          "output_type": "stream",
          "name": "stdout",
          "text": [
            "Empty DataFrame\n",
            "Columns: []\n",
            "Index: []\n",
            "     Words\n",
            "0     Olim\n",
            "1   Sanjar\n",
            "2    Olima\n",
            "3    Oybek\n",
            "4     Asal\n",
            "5  Sabrina\n"
          ]
        }
      ]
    },
    {
      "cell_type": "code",
      "source": [
        "\n",
        "data1 = {'Name': ['Jai', 'Anuj', 'Jai', 'Princi',\n",
        "                  'Gaurav', 'Anuj', 'Princi', 'Abhi'],\n",
        "         'Age': [27, 24, 22, 32,\n",
        "                 33, 36, 27, 32],\n",
        "         'Address': ['Nagpur', 'Kanpur', 'Allahabad', 'Kannuaj',\n",
        "                     'Jaunpur', 'Kanpur', 'Allahabad', 'Aligarh'],\n",
        "         'Qualification': ['Msc', 'MA', 'MCA', 'Phd',\n",
        "                           'B.Tech', 'B.com', 'Msc', 'MA']}\n",
        "\n",
        "df = pd.DataFrame(data1)\n",
        "\n",
        "print(\"Original Dataframe\")\n",
        "print(df)\n",
        "\n",
        "gk = df.groupby('Name')\n",
        "\n",
        "print(\"After Creating Groups\")\n",
        "gk.first()"
      ],
      "metadata": {
        "colab": {
          "base_uri": "https://localhost:8080/",
          "height": 428
        },
        "id": "DG3osjz1KWt4",
        "outputId": "de6590ad-2339-4374-cc5a-76c2a8a8e947"
      },
      "execution_count": 25,
      "outputs": [
        {
          "output_type": "stream",
          "name": "stdout",
          "text": [
            "Original Dataframe\n",
            "     Name  Age    Address Qualification\n",
            "0     Jai   27     Nagpur           Msc\n",
            "1    Anuj   24     Kanpur            MA\n",
            "2     Jai   22  Allahabad           MCA\n",
            "3  Princi   32    Kannuaj           Phd\n",
            "4  Gaurav   33    Jaunpur        B.Tech\n",
            "5    Anuj   36     Kanpur         B.com\n",
            "6  Princi   27  Allahabad           Msc\n",
            "7    Abhi   32    Aligarh            MA\n",
            "After Creating Groups\n"
          ]
        },
        {
          "output_type": "execute_result",
          "data": {
            "text/plain": [
              "        Age  Address Qualification\n",
              "Name                              \n",
              "Abhi     32  Aligarh            MA\n",
              "Anuj     24   Kanpur            MA\n",
              "Gaurav   33  Jaunpur        B.Tech\n",
              "Jai      27   Nagpur           Msc\n",
              "Princi   32  Kannuaj           Phd"
            ],
            "text/html": [
              "\n",
              "  <div id=\"df-5e058c45-ef6b-49a8-b1e8-ce73ecfb0a0f\" class=\"colab-df-container\">\n",
              "    <div>\n",
              "<style scoped>\n",
              "    .dataframe tbody tr th:only-of-type {\n",
              "        vertical-align: middle;\n",
              "    }\n",
              "\n",
              "    .dataframe tbody tr th {\n",
              "        vertical-align: top;\n",
              "    }\n",
              "\n",
              "    .dataframe thead th {\n",
              "        text-align: right;\n",
              "    }\n",
              "</style>\n",
              "<table border=\"1\" class=\"dataframe\">\n",
              "  <thead>\n",
              "    <tr style=\"text-align: right;\">\n",
              "      <th></th>\n",
              "      <th>Age</th>\n",
              "      <th>Address</th>\n",
              "      <th>Qualification</th>\n",
              "    </tr>\n",
              "    <tr>\n",
              "      <th>Name</th>\n",
              "      <th></th>\n",
              "      <th></th>\n",
              "      <th></th>\n",
              "    </tr>\n",
              "  </thead>\n",
              "  <tbody>\n",
              "    <tr>\n",
              "      <th>Abhi</th>\n",
              "      <td>32</td>\n",
              "      <td>Aligarh</td>\n",
              "      <td>MA</td>\n",
              "    </tr>\n",
              "    <tr>\n",
              "      <th>Anuj</th>\n",
              "      <td>24</td>\n",
              "      <td>Kanpur</td>\n",
              "      <td>MA</td>\n",
              "    </tr>\n",
              "    <tr>\n",
              "      <th>Gaurav</th>\n",
              "      <td>33</td>\n",
              "      <td>Jaunpur</td>\n",
              "      <td>B.Tech</td>\n",
              "    </tr>\n",
              "    <tr>\n",
              "      <th>Jai</th>\n",
              "      <td>27</td>\n",
              "      <td>Nagpur</td>\n",
              "      <td>Msc</td>\n",
              "    </tr>\n",
              "    <tr>\n",
              "      <th>Princi</th>\n",
              "      <td>32</td>\n",
              "      <td>Kannuaj</td>\n",
              "      <td>Phd</td>\n",
              "    </tr>\n",
              "  </tbody>\n",
              "</table>\n",
              "</div>\n",
              "    <div class=\"colab-df-buttons\">\n",
              "\n",
              "  <div class=\"colab-df-container\">\n",
              "    <button class=\"colab-df-convert\" onclick=\"convertToInteractive('df-5e058c45-ef6b-49a8-b1e8-ce73ecfb0a0f')\"\n",
              "            title=\"Convert this dataframe to an interactive table.\"\n",
              "            style=\"display:none;\">\n",
              "\n",
              "  <svg xmlns=\"http://www.w3.org/2000/svg\" height=\"24px\" viewBox=\"0 -960 960 960\">\n",
              "    <path d=\"M120-120v-720h720v720H120Zm60-500h600v-160H180v160Zm220 220h160v-160H400v160Zm0 220h160v-160H400v160ZM180-400h160v-160H180v160Zm440 0h160v-160H620v160ZM180-180h160v-160H180v160Zm440 0h160v-160H620v160Z\"/>\n",
              "  </svg>\n",
              "    </button>\n",
              "\n",
              "  <style>\n",
              "    .colab-df-container {\n",
              "      display:flex;\n",
              "      gap: 12px;\n",
              "    }\n",
              "\n",
              "    .colab-df-convert {\n",
              "      background-color: #E8F0FE;\n",
              "      border: none;\n",
              "      border-radius: 50%;\n",
              "      cursor: pointer;\n",
              "      display: none;\n",
              "      fill: #1967D2;\n",
              "      height: 32px;\n",
              "      padding: 0 0 0 0;\n",
              "      width: 32px;\n",
              "    }\n",
              "\n",
              "    .colab-df-convert:hover {\n",
              "      background-color: #E2EBFA;\n",
              "      box-shadow: 0px 1px 2px rgba(60, 64, 67, 0.3), 0px 1px 3px 1px rgba(60, 64, 67, 0.15);\n",
              "      fill: #174EA6;\n",
              "    }\n",
              "\n",
              "    .colab-df-buttons div {\n",
              "      margin-bottom: 4px;\n",
              "    }\n",
              "\n",
              "    [theme=dark] .colab-df-convert {\n",
              "      background-color: #3B4455;\n",
              "      fill: #D2E3FC;\n",
              "    }\n",
              "\n",
              "    [theme=dark] .colab-df-convert:hover {\n",
              "      background-color: #434B5C;\n",
              "      box-shadow: 0px 1px 3px 1px rgba(0, 0, 0, 0.15);\n",
              "      filter: drop-shadow(0px 1px 2px rgba(0, 0, 0, 0.3));\n",
              "      fill: #FFFFFF;\n",
              "    }\n",
              "  </style>\n",
              "\n",
              "    <script>\n",
              "      const buttonEl =\n",
              "        document.querySelector('#df-5e058c45-ef6b-49a8-b1e8-ce73ecfb0a0f button.colab-df-convert');\n",
              "      buttonEl.style.display =\n",
              "        google.colab.kernel.accessAllowed ? 'block' : 'none';\n",
              "\n",
              "      async function convertToInteractive(key) {\n",
              "        const element = document.querySelector('#df-5e058c45-ef6b-49a8-b1e8-ce73ecfb0a0f');\n",
              "        const dataTable =\n",
              "          await google.colab.kernel.invokeFunction('convertToInteractive',\n",
              "                                                    [key], {});\n",
              "        if (!dataTable) return;\n",
              "\n",
              "        const docLinkHtml = 'Like what you see? Visit the ' +\n",
              "          '<a target=\"_blank\" href=https://colab.research.google.com/notebooks/data_table.ipynb>data table notebook</a>'\n",
              "          + ' to learn more about interactive tables.';\n",
              "        element.innerHTML = '';\n",
              "        dataTable['output_type'] = 'display_data';\n",
              "        await google.colab.output.renderOutput(dataTable, element);\n",
              "        const docLink = document.createElement('div');\n",
              "        docLink.innerHTML = docLinkHtml;\n",
              "        element.appendChild(docLink);\n",
              "      }\n",
              "    </script>\n",
              "  </div>\n",
              "\n",
              "\n",
              "    <div id=\"df-e92220f8-198b-4e6b-acbb-3c944c51e9a5\">\n",
              "      <button class=\"colab-df-quickchart\" onclick=\"quickchart('df-e92220f8-198b-4e6b-acbb-3c944c51e9a5')\"\n",
              "                title=\"Suggest charts\"\n",
              "                style=\"display:none;\">\n",
              "\n",
              "<svg xmlns=\"http://www.w3.org/2000/svg\" height=\"24px\"viewBox=\"0 0 24 24\"\n",
              "     width=\"24px\">\n",
              "    <g>\n",
              "        <path d=\"M19 3H5c-1.1 0-2 .9-2 2v14c0 1.1.9 2 2 2h14c1.1 0 2-.9 2-2V5c0-1.1-.9-2-2-2zM9 17H7v-7h2v7zm4 0h-2V7h2v10zm4 0h-2v-4h2v4z\"/>\n",
              "    </g>\n",
              "</svg>\n",
              "      </button>\n",
              "\n",
              "<style>\n",
              "  .colab-df-quickchart {\n",
              "      --bg-color: #E8F0FE;\n",
              "      --fill-color: #1967D2;\n",
              "      --hover-bg-color: #E2EBFA;\n",
              "      --hover-fill-color: #174EA6;\n",
              "      --disabled-fill-color: #AAA;\n",
              "      --disabled-bg-color: #DDD;\n",
              "  }\n",
              "\n",
              "  [theme=dark] .colab-df-quickchart {\n",
              "      --bg-color: #3B4455;\n",
              "      --fill-color: #D2E3FC;\n",
              "      --hover-bg-color: #434B5C;\n",
              "      --hover-fill-color: #FFFFFF;\n",
              "      --disabled-bg-color: #3B4455;\n",
              "      --disabled-fill-color: #666;\n",
              "  }\n",
              "\n",
              "  .colab-df-quickchart {\n",
              "    background-color: var(--bg-color);\n",
              "    border: none;\n",
              "    border-radius: 50%;\n",
              "    cursor: pointer;\n",
              "    display: none;\n",
              "    fill: var(--fill-color);\n",
              "    height: 32px;\n",
              "    padding: 0;\n",
              "    width: 32px;\n",
              "  }\n",
              "\n",
              "  .colab-df-quickchart:hover {\n",
              "    background-color: var(--hover-bg-color);\n",
              "    box-shadow: 0 1px 2px rgba(60, 64, 67, 0.3), 0 1px 3px 1px rgba(60, 64, 67, 0.15);\n",
              "    fill: var(--button-hover-fill-color);\n",
              "  }\n",
              "\n",
              "  .colab-df-quickchart-complete:disabled,\n",
              "  .colab-df-quickchart-complete:disabled:hover {\n",
              "    background-color: var(--disabled-bg-color);\n",
              "    fill: var(--disabled-fill-color);\n",
              "    box-shadow: none;\n",
              "  }\n",
              "\n",
              "  .colab-df-spinner {\n",
              "    border: 2px solid var(--fill-color);\n",
              "    border-color: transparent;\n",
              "    border-bottom-color: var(--fill-color);\n",
              "    animation:\n",
              "      spin 1s steps(1) infinite;\n",
              "  }\n",
              "\n",
              "  @keyframes spin {\n",
              "    0% {\n",
              "      border-color: transparent;\n",
              "      border-bottom-color: var(--fill-color);\n",
              "      border-left-color: var(--fill-color);\n",
              "    }\n",
              "    20% {\n",
              "      border-color: transparent;\n",
              "      border-left-color: var(--fill-color);\n",
              "      border-top-color: var(--fill-color);\n",
              "    }\n",
              "    30% {\n",
              "      border-color: transparent;\n",
              "      border-left-color: var(--fill-color);\n",
              "      border-top-color: var(--fill-color);\n",
              "      border-right-color: var(--fill-color);\n",
              "    }\n",
              "    40% {\n",
              "      border-color: transparent;\n",
              "      border-right-color: var(--fill-color);\n",
              "      border-top-color: var(--fill-color);\n",
              "    }\n",
              "    60% {\n",
              "      border-color: transparent;\n",
              "      border-right-color: var(--fill-color);\n",
              "    }\n",
              "    80% {\n",
              "      border-color: transparent;\n",
              "      border-right-color: var(--fill-color);\n",
              "      border-bottom-color: var(--fill-color);\n",
              "    }\n",
              "    90% {\n",
              "      border-color: transparent;\n",
              "      border-bottom-color: var(--fill-color);\n",
              "    }\n",
              "  }\n",
              "</style>\n",
              "\n",
              "      <script>\n",
              "        async function quickchart(key) {\n",
              "          const quickchartButtonEl =\n",
              "            document.querySelector('#' + key + ' button');\n",
              "          quickchartButtonEl.disabled = true;  // To prevent multiple clicks.\n",
              "          quickchartButtonEl.classList.add('colab-df-spinner');\n",
              "          try {\n",
              "            const charts = await google.colab.kernel.invokeFunction(\n",
              "                'suggestCharts', [key], {});\n",
              "          } catch (error) {\n",
              "            console.error('Error during call to suggestCharts:', error);\n",
              "          }\n",
              "          quickchartButtonEl.classList.remove('colab-df-spinner');\n",
              "          quickchartButtonEl.classList.add('colab-df-quickchart-complete');\n",
              "        }\n",
              "        (() => {\n",
              "          let quickchartButtonEl =\n",
              "            document.querySelector('#df-e92220f8-198b-4e6b-acbb-3c944c51e9a5 button');\n",
              "          quickchartButtonEl.style.display =\n",
              "            google.colab.kernel.accessAllowed ? 'block' : 'none';\n",
              "        })();\n",
              "      </script>\n",
              "    </div>\n",
              "\n",
              "    </div>\n",
              "  </div>\n"
            ],
            "application/vnd.google.colaboratory.intrinsic+json": {
              "type": "dataframe",
              "summary": "{\n  \"name\": \"gk\",\n  \"rows\": 5,\n  \"fields\": [\n    {\n      \"column\": \"Name\",\n      \"properties\": {\n        \"dtype\": \"string\",\n        \"num_unique_values\": 5,\n        \"samples\": [\n          \"Anuj\",\n          \"Princi\",\n          \"Gaurav\"\n        ],\n        \"semantic_type\": \"\",\n        \"description\": \"\"\n      }\n    },\n    {\n      \"column\": \"Age\",\n      \"properties\": {\n        \"dtype\": \"number\",\n        \"std\": 3,\n        \"min\": 24,\n        \"max\": 33,\n        \"num_unique_values\": 4,\n        \"samples\": [\n          24,\n          27,\n          32\n        ],\n        \"semantic_type\": \"\",\n        \"description\": \"\"\n      }\n    },\n    {\n      \"column\": \"Address\",\n      \"properties\": {\n        \"dtype\": \"string\",\n        \"num_unique_values\": 5,\n        \"samples\": [\n          \"Kanpur\",\n          \"Kannuaj\",\n          \"Jaunpur\"\n        ],\n        \"semantic_type\": \"\",\n        \"description\": \"\"\n      }\n    },\n    {\n      \"column\": \"Qualification\",\n      \"properties\": {\n        \"dtype\": \"string\",\n        \"num_unique_values\": 4,\n        \"samples\": [\n          \"B.Tech\",\n          \"Phd\",\n          \"MA\"\n        ],\n        \"semantic_type\": \"\",\n        \"description\": \"\"\n      }\n    }\n  ]\n}"
            }
          },
          "metadata": {},
          "execution_count": 25
        }
      ]
    },
    {
      "source": [
        "from matplotlib import pyplot as plt\n",
        "_df_0['Age'].plot(kind='hist', bins=20, title='Age')\n",
        "plt.gca().spines[['top', 'right',]].set_visible(False)"
      ],
      "cell_type": "code",
      "metadata": {
        "colab": {
          "base_uri": "https://localhost:8080/",
          "height": 452
        },
        "id": "kWF4OZpWK5uU",
        "outputId": "64710cd5-ff8f-4060-bbb9-6ae6945fba24"
      },
      "execution_count": 24,
      "outputs": [
        {
          "output_type": "display_data",
          "data": {
            "text/plain": [
              "<Figure size 640x480 with 1 Axes>"
            ],
            "image/png": "[encoded data removed]"
          },
          "metadata": {}
        }
      ]
    }
  ]
}