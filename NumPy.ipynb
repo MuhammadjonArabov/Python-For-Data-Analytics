{
  "nbformat": 4,
  "nbformat_minor": 0,
  "metadata": {
    "colab": {
      "provenance": [],
      "authorship_tag": "ABX9TyMyS0ADfSKTW+lDjiRNXa3y",
      "include_colab_link": true
    },
    "kernelspec": {
      "name": "python3",
      "display_name": "Python 3"
    },
    "language_info": {
      "name": "python"
    }
  },
  "cells": [
    {
      "cell_type": "markdown",
      "metadata": {
        "id": "view-in-github",
        "colab_type": "text"
      },
      "source": [
        "<a href=\"https://colab.research.google.com/github/MuhammadjonArabov/Python-For-Data-Analytics/blob/main/NumPy.ipynb\" target=\"_parent\"><img src=\"https://colab.research.google.com/assets/colab-badge.svg\" alt=\"Open In Colab\"/></a>"
      ]
    },
    {
      "cell_type": "code",
      "execution_count": 5,
      "metadata": {
        "colab": {
          "base_uri": "https://localhost:8080/"
        },
        "id": "sZKmwriJJhgx",
        "outputId": "3e504c35-350f-425a-a4ad-962b6d54b4d3"
      },
      "outputs": [
        {
          "output_type": "stream",
          "name": "stdout",
          "text": [
            "a = True\n",
            "b = False\n"
          ]
        }
      ],
      "source": [
        "import numpy as np\n",
        "a = np.array([4, True, True])\n",
        "print(f\"a = {a.all()}\")\n",
        "b = np.array([True, False, True])\n",
        "print(f\"b = {b.all()}\")"
      ]
    },
    {
      "cell_type": "code",
      "source": [
        "print(f\"any = {a.any()}\")\n",
        "d = np.array([False, 0, False])\n",
        "print(f\"d = {d.any()}\")"
      ],
      "metadata": {
        "colab": {
          "base_uri": "https://localhost:8080/"
        },
        "id": "yQ3AJBkBK0HP",
        "outputId": "cefe4efe-c27f-4d1f-b745-120558d28d57"
      },
      "execution_count": 7,
      "outputs": [
        {
          "output_type": "stream",
          "name": "stdout",
          "text": [
            "any = True\n",
            "d = False\n"
          ]
        }
      ]
    }
  ]
}