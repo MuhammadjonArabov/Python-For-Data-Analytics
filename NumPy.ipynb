{
  "nbformat": 4,
  "nbformat_minor": 0,
  "metadata": {
    "colab": {
      "provenance": [],
      "authorship_tag": "ABX9TyNhYcanKka1jnbr6HPEkkd+",
      "include_colab_link": true
    },
    "kernelspec": {
      "name": "python3",
      "display_name": "Python 3"
    },
    "language_info": {
      "name": "python"
    }
  },
  "cells": [
    {
      "cell_type": "markdown",
      "metadata": {
        "id": "view-in-github",
        "colab_type": "text"
      },
      "source": [
        "<a href=\"https://colab.research.google.com/github/MuhammadjonArabov/Python-For-Data-Analytics/blob/main/NumPy.ipynb\" target=\"_parent\"><img src=\"https://colab.research.google.com/assets/colab-badge.svg\" alt=\"Open In Colab\"/></a>"
      ]
    },
    {
      "cell_type": "code",
      "execution_count": 3,
      "metadata": {
        "colab": {
          "base_uri": "https://localhost:8080/"
        },
        "id": "sZKmwriJJhgx",
        "outputId": "c5f623c6-121f-4fd2-aa05-42cb668bb9a3"
      },
      "outputs": [
        {
          "output_type": "stream",
          "name": "stdout",
          "text": [
            "a = True\n",
            "b = False\n"
          ]
        }
      ],
      "source": [
        "import numpy as np\n",
        "a = np.array([4, True, True])\n",
        "print(f\"a = {a.all()}\")\n",
        "b = np.array([True, False, True])\n",
        "print(f\"b = {b.all()}\")"
      ]
    },
    {
      "cell_type": "code",
      "source": [
        "print(f\"any = {a.any()}\")\n",
        "d = np.array([False, 0, False])\n",
        "print(f\"d = {d.any()}\")"
      ],
      "metadata": {
        "colab": {
          "base_uri": "https://localhost:8080/"
        },
        "id": "yQ3AJBkBK0HP",
        "outputId": "cefe4efe-c27f-4d1f-b745-120558d28d57"
      },
      "execution_count": null,
      "outputs": [
        {
          "output_type": "stream",
          "name": "stdout",
          "text": [
            "any = True\n",
            "d = False\n"
          ]
        }
      ]
    },
    {
      "cell_type": "code",
      "source": [
        "s = np.array([23, 12, 45, 67, 8])\n",
        "print(np.take(s, [0, 2]))"
      ],
      "metadata": {
        "colab": {
          "base_uri": "https://localhost:8080/"
        },
        "id": "1_xD91z0MGm7",
        "outputId": "93593afe-4c80-41fd-ff4d-057ab4e97bd3"
      },
      "execution_count": null,
      "outputs": [
        {
          "output_type": "stream",
          "name": "stdout",
          "text": [
            "[23 45]\n"
          ]
        }
      ]
    },
    {
      "cell_type": "code",
      "source": [
        "S = np.array([1, 2, 3, 4, 5, 6, 7])\n",
        "np.put(S, [1, 3], [89, 79])\n",
        "print(S)"
      ],
      "metadata": {
        "colab": {
          "base_uri": "https://localhost:8080/"
        },
        "id": "P991DoeRMqEE",
        "outputId": "027a07df-af63-49c5-d786-c40be1b63b31"
      },
      "execution_count": null,
      "outputs": [
        {
          "output_type": "stream",
          "name": "stdout",
          "text": [
            "[ 1 89  3 79  5  6  7]\n"
          ]
        }
      ]
    },
    {
      "cell_type": "code",
      "source": [
        "print(np.diag(s))\n",
        "b = np.array([[1, 2, 3], [5, 6, 7]])\n",
        "print(f\"b = {np.diag(b)}\")\n",
        "print(f\"diagflat = {np.diagflat(b)}\")"
      ],
      "metadata": {
        "colab": {
          "base_uri": "https://localhost:8080/"
        },
        "id": "lPwnvNy6Nhb-",
        "outputId": "88819a6a-b4e1-4a4a-c0df-b68ec1d57842"
      },
      "execution_count": null,
      "outputs": [
        {
          "output_type": "stream",
          "name": "stdout",
          "text": [
            "[[23  0  0  0  0]\n",
            " [ 0 89  0  0  0]\n",
            " [ 0  0 45  0  0]\n",
            " [ 0  0  0 79  0]\n",
            " [ 0  0  0  0  8]]\n",
            "b = [1 6]\n",
            "diagflat = [[1 0 0 0 0 0]\n",
            " [0 2 0 0 0 0]\n",
            " [0 0 3 0 0 0]\n",
            " [0 0 0 5 0 0]\n",
            " [0 0 0 0 6 0]\n",
            " [0 0 0 0 0 7]]\n"
          ]
        }
      ]
    },
    {
      "cell_type": "code",
      "source": [
        "idx = np.diag_indices(3)\n",
        "print(idx)\n",
        "a = np.zeros((3, 3))\n",
        "a[idx] = [2, 5, 7]\n",
        "print(a)"
      ],
      "metadata": {
        "colab": {
          "base_uri": "https://localhost:8080/"
        },
        "id": "ITkRuHtsS2ZK",
        "outputId": "06698387-148d-4ee4-a436-a86a4525c9d5"
      },
      "execution_count": null,
      "outputs": [
        {
          "output_type": "stream",
          "name": "stdout",
          "text": [
            "(array([0, 1, 2]), array([0, 1, 2]))\n",
            "[[2. 0. 0.]\n",
            " [0. 5. 0.]\n",
            " [0. 0. 7.]]\n"
          ]
        }
      ]
    },
    {
      "cell_type": "code",
      "source": [
        "a = np.empty([2, 2], dtype=int)\n",
        "print(f\"a = \\n {a}\")\n",
        "b = np.empty(2, dtype=int)\n",
        "print(f\"b = \\n {b}\")"
      ],
      "metadata": {
        "colab": {
          "base_uri": "https://localhost:8080/"
        },
        "id": "tin7NpKnW2hf",
        "outputId": "4242e46b-f432-42b6-b1c4-fcfb4c8d361b"
      },
      "execution_count": null,
      "outputs": [
        {
          "output_type": "stream",
          "name": "stdout",
          "text": [
            "a = \n",
            " [[-4592061934894841856 -4607182418800017408]\n",
            " [ 4631310101959933952  4624070917402656768]]\n",
            "b = \n",
            " [9218868437227405312 9218868437227405312]\n"
          ]
        }
      ]
    },
    {
      "cell_type": "code",
      "source": [
        "a = np.array([2, 4, 6, 7, 90])\n",
        "b = np.array([1, 45, 67, 4, 97])\n",
        "add_ab = a + b\n",
        "print(f\"a + b = {add_ab}\")\n",
        "c = np.add(a, b)\n",
        "print(f\"c = {c}\")\n",
        "d = np.array([1, 2, 3, 4, 1])\n",
        "total_amount = a + b + d\n",
        "print(f\"total_amount = {total_amount}\")\n",
        "total_amount1 = np.add(a, b, d)\n",
        "print(f\"total_amount1 = {total_amount1}\")"
      ],
      "metadata": {
        "colab": {
          "base_uri": "https://localhost:8080/"
        },
        "id": "slKZyK_UY1mR",
        "outputId": "a0488742-b638-4498-9d9e-1a428286d8ba"
      },
      "execution_count": null,
      "outputs": [
        {
          "output_type": "stream",
          "name": "stdout",
          "text": [
            "a + b = [  3  49  73  11 187]\n",
            "c = [  3  49  73  11 187]\n",
            "total_amount = [  4  51  76  15 188]\n",
            "total_amount1 = [  3  49  73  11 187]\n"
          ]
        }
      ]
    },
    {
      "cell_type": "code",
      "source": [
        "x = np.array([4, 6, 8, 9])\n",
        "y = np.array([1, 2, 4, 5])\n",
        "sub_ab = x - y\n",
        "print(f\"a - b = {sub_ab}\")\n",
        "sub_ab1 = np.subtract(x, y)\n",
        "print(f\"sub_ab1 = {sub_ab1}\")"
      ],
      "metadata": {
        "colab": {
          "base_uri": "https://localhost:8080/"
        },
        "id": "-dYg1QqobRNa",
        "outputId": "bb6ee908-a3a2-4e80-e7dd-bb2ec869e38f"
      },
      "execution_count": null,
      "outputs": [
        {
          "output_type": "stream",
          "name": "stdout",
          "text": [
            "a - b = [3 4 4 4]\n",
            "sub_ab1 = [3 4 4 4]\n"
          ]
        }
      ]
    },
    {
      "cell_type": "code",
      "source": [
        "mul_ab = x*y\n",
        "print(f\"x*y = {x*y}\")\n",
        "mul_ab = np.multiply(x, y)\n",
        "print(f\"mul_ab = {mul_ab}\")"
      ],
      "metadata": {
        "colab": {
          "base_uri": "https://localhost:8080/"
        },
        "id": "K5e0rOs6c7_z",
        "outputId": "e394ac8f-b086-4cbc-9103-9df57509a9d9"
      },
      "execution_count": null,
      "outputs": [
        {
          "output_type": "stream",
          "name": "stdout",
          "text": [
            "x*y = [ 4 12 32 45]\n",
            "mul_ab = [ 4 12 32 45]\n"
          ]
        }
      ]
    },
    {
      "cell_type": "code",
      "source": [
        "print(f\"x/y = {x/y}\")\n",
        "div_ab = np.divide(x, y)\n",
        "print(f\"div_ab = {div_ab}\")"
      ],
      "metadata": {
        "colab": {
          "base_uri": "https://localhost:8080/"
        },
        "id": "Pmh6v3SOdseM",
        "outputId": "df450bc0-06a4-464d-9cb0-b130fd3f640a"
      },
      "execution_count": null,
      "outputs": [
        {
          "output_type": "stream",
          "name": "stdout",
          "text": [
            "x/y = [4.  3.  2.  1.8]\n",
            "div_ab = [4.  3.  2.  1.8]\n"
          ]
        }
      ]
    },
    {
      "cell_type": "code",
      "source": [
        "f, g = np.arange(1, 10, 2), np.arange(10, 1, -2)\n",
        "print(f\"f = {f},  g = {g}\")"
      ],
      "metadata": {
        "colab": {
          "base_uri": "https://localhost:8080/"
        },
        "id": "FlxAmZFVeOIV",
        "outputId": "a284de23-0d42-43bd-b1db-d4f876cfd2b8"
      },
      "execution_count": null,
      "outputs": [
        {
          "output_type": "stream",
          "name": "stdout",
          "text": [
            "f = [1 3 5 7 9],  g = [10  8  6  4  2]\n"
          ]
        }
      ]
    },
    {
      "cell_type": "code",
      "source": [
        "b = np.array([[[1, 2, 3], [56, 6, 7]],\n",
        "              [[9, 0, 8], [0, 12, 45]]])\n",
        "\n",
        "print(b[..., 2])\n"
      ],
      "metadata": {
        "colab": {
          "base_uri": "https://localhost:8080/"
        },
        "id": "cMZbDttqFb9r",
        "outputId": "03dfcd1d-b9b7-40aa-94e5-50f10f0418d2"
      },
      "execution_count": 5,
      "outputs": [
        {
          "output_type": "stream",
          "name": "stdout",
          "text": [
            "[[ 3  7]\n",
            " [ 8 45]]\n"
          ]
        }
      ]
    },
    {
      "cell_type": "code",
      "source": [
        "g = np.array([\n",
        "    [2, 3, 4.9],\n",
        "    [4, 4.3, 1],\n",
        "    [8, 9.9, 2.2],\n",
        "    [1, 2.3, 7.8]\n",
        "])\n",
        "\n",
        "d = np.array([2, 4, 4])\n",
        "result = g * d\n",
        "print(result)"
      ],
      "metadata": {
        "colab": {
          "base_uri": "https://localhost:8080/"
        },
        "id": "DsEFbxhsGfcf",
        "outputId": "4a132edb-3475-4677-e467-7e4c4c4ca7d1"
      },
      "execution_count": 6,
      "outputs": [
        {
          "output_type": "stream",
          "name": "stdout",
          "text": [
            "[[ 4.  12.  19.6]\n",
            " [ 8.  17.2  4. ]\n",
            " [16.  39.6  8.8]\n",
            " [ 2.   9.2 31.2]]\n"
          ]
        }
      ]
    },
    {
      "cell_type": "code",
      "source": [
        "v = np.array([1, 2, 3])\n",
        "w = np.array([9, 1])\n",
        "\n",
        "print(np.reshape(v, (3, 1)) * w)\n",
        "\n",
        "X = np.array([[12, 22, 33], [45, 55, 66]])\n",
        "print(X + v)\n",
        "\n",
        "print((X.T + w).T)\n",
        "\n",
        "print(X * 2)"
      ],
      "metadata": {
        "colab": {
          "base_uri": "https://localhost:8080/"
        },
        "id": "Ztk9hFZbG9zX",
        "outputId": "e2edf894-af50-43f2-d9ff-de4886c4efa4"
      },
      "execution_count": 11,
      "outputs": [
        {
          "output_type": "stream",
          "name": "stdout",
          "text": [
            "[[ 9  1]\n",
            " [18  2]\n",
            " [27  3]]\n",
            "[[13 24 36]\n",
            " [46 57 69]]\n",
            "[[21 31 42]\n",
            " [46 56 67]]\n",
            "[[ 24  44  66]\n",
            " [ 90 110 132]]\n"
          ]
        }
      ]
    }
  ]
}